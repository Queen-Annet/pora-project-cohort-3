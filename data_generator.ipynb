{
 "cells": [
  {
   "cell_type": "code",
   "execution_count": 34,
   "metadata": {},
   "outputs": [],
   "source": [
    "from faker import Faker\n",
    "import random\n",
    "import uuid\n",
    "import pandas as pd\n",
    "from datetime import datetime, timedelta\n",
    "import numpy as np\n",
    "import os\n",
    "from sklearn.model_selection import train_test_split\n"
   ]
  },
  {
   "cell_type": "code",
   "execution_count": 1,
   "metadata": {},
   "outputs": [],
   "source": [
    "nigerian_states = [\n",
    "  \"Abia\",\n",
    "  \"Adamawa\",\n",
    "  \"Akwa Ibom\",\n",
    "  \"Anambra\",\n",
    "  \"Bauchi\",\n",
    "  \"Bayelsa\",\n",
    "  \"Benue\",\n",
    "  \"Borno\",\n",
    "  \"Cross River\",\n",
    "  \"Delta\",\n",
    "  \"Ebonyi\",\n",
    "  \"Edo\",\n",
    "  \"Ekiti\",\n",
    "  \"Enugu\",\n",
    "  \"FCT - Abuja\",\n",
    "  \"Gombe\",\n",
    "  \"Imo\",\n",
    "  \"Jigawa\",\n",
    "  \"Kaduna\",\n",
    "  \"Kano\",\n",
    "  \"Katsina\",\n",
    "  \"Kebbi\",\n",
    "  \"Kogi\",\n",
    "  \"Kwara\",\n",
    "  \"Lagos\",\n",
    "  \"Nasarawa\",\n",
    "  \"Niger\",\n",
    "  \"Ogun\",\n",
    "  \"Ondo\",\n",
    "  \"Osun\",\n",
    "  \"Oyo\",\n",
    "  \"Plateau\",\n",
    "  \"Rivers\",\n",
    "  \"Sokoto\",\n",
    "  \"Taraba\",\n",
    "  \"Yobe\",\n",
    "  \"Zamfara\"\n",
    "]"
   ]
  },
  {
   "cell_type": "code",
   "execution_count": 2,
   "metadata": {},
   "outputs": [
    {
     "data": {
      "text/plain": [
       "37"
      ]
     },
     "execution_count": 2,
     "metadata": {},
     "output_type": "execute_result"
    }
   ],
   "source": [
    "len(nigerian_states)"
   ]
  },
  {
   "cell_type": "code",
   "execution_count": 36,
   "metadata": {},
   "outputs": [],
   "source": [
    "def save_csv(dataframe, directory, filename):\n",
    "    \"\"\"\n",
    "    Save a pandas DataFrame to a CSV file in a specified directory with a given filename.\n",
    "\n",
    "    Parameters:\n",
    "    dataframe (pd.DataFrame): The DataFrame to save.\n",
    "    directory (str): The directory where the CSV file will be saved.\n",
    "    filename (str): The name of the CSV file.\n",
    "\n",
    "    Returns:\n",
    "    str: The path to the saved CSV file.\n",
    "    \"\"\"\n",
    "    if not os.path.exists(directory):\n",
    "        os.makedirs(directory)\n",
    "    \n",
    "    file_path = os.path.join(directory, filename)\n",
    "    dataframe.to_csv(file_path, index=False)\n",
    "    return file_path\n"
   ]
  },
  {
   "cell_type": "code",
   "execution_count": 37,
   "metadata": {},
   "outputs": [],
   "source": [
    "promotion_data = [\n",
    "    {'promo_code':'101', 'name':'onboarder', 'rate':1000, 'measure':'amount in Naira', 'target':'sign-on without transacting', 'aim':'conversion of sign-ons'},\n",
    "    {'promo_code':'1001', 'name':'bulk_buzzer', 'rate':3, 'measure':'percentage', 'target':'bulk buyers', 'aim':'encourage high purchase volumes'},\n",
    "    {'promo_code':'10001', 'name':'reactivator', 'rate':500, 'measure':'amount in Naira', 'target':'reactivate inactive customers', 'aim':'win back inactive customers'}\n",
    "]\n",
    "\n",
    "promotion_df = pd.DataFrame(promotion_data)"
   ]
  },
  {
   "cell_type": "code",
   "execution_count": 38,
   "metadata": {},
   "outputs": [],
   "source": [
    "\n",
    "# Define the unit of measurement data\n",
    "unit_of_measurement_data = [\n",
    "    {\"id\": str(uuid.uuid4()), \"long_name\": \"Kilogram\", \"short_name\": \"kg\", \"remarks\": \"Unit of mass\"},\n",
    "    {\"id\": str(uuid.uuid4()), \"long_name\": \"Liter\", \"short_name\": \"L\", \"remarks\": \"Unit of volume\"},\n",
    "    {\"id\": str(uuid.uuid4()), \"long_name\": \"Unit\", \"short_name\": \"unit\", \"remarks\": \"Individual item count\"},\n",
    "    {\"id\": str(uuid.uuid4()), \"long_name\": \"Gram\", \"short_name\": \"g\", \"remarks\": \"Unit of mass\"},\n",
    "    {\"id\": str(uuid.uuid4()), \"long_name\": \"Milliliter\", \"short_name\": \"mL\", \"remarks\": \"Unit of volume\"}\n",
    "]\n",
    "unit_of_measurement_df = pd.DataFrame(unit_of_measurement_data)\n"
   ]
  },
  {
   "cell_type": "code",
   "execution_count": 39,
   "metadata": {},
   "outputs": [],
   "source": [
    "\n",
    "# Define the category data\n",
    "category_data = [\n",
    "    {\"id\": str(uuid.uuid4()), \"name\": \"Fruits\", \"long_name\": \"Fresh Fruits\", \"remarks\": \"Includes all types of fresh fruits\"},\n",
    "    {\"id\": str(uuid.uuid4()), \"name\": \"Vegetables\", \"long_name\": \"Fresh Vegetables\", \"remarks\": \"Includes all types of fresh vegetables\"},\n",
    "    {\"id\": str(uuid.uuid4()), \"name\": \"Dairy\", \"long_name\": \"Dairy Products\", \"remarks\": \"Includes milk, cheese, and other dairy products\"},\n",
    "    {\"id\": str(uuid.uuid4()), \"name\": \"Bakery\", \"long_name\": \"Bakery Items\", \"remarks\": \"Includes bread, cakes, and other baked goods\"},\n",
    "    {\"id\": str(uuid.uuid4()), \"name\": \"Beverages\", \"long_name\": \"Beverages\", \"remarks\": \"Includes all types of drinks\"}\n",
    "]\n",
    "category_df = pd.DataFrame(category_data)\n"
   ]
  },
  {
   "cell_type": "code",
   "execution_count": 40,
   "metadata": {},
   "outputs": [],
   "source": [
    "\n",
    "# Define the sub_category data\n",
    "sub_category_data = [\n",
    "    {\"id\": str(uuid.uuid4()), \"category_id\": category_df.loc[0, 'id'], \"name\": \"Citrus\", \"long_name\": \"Citrus Fruits\", \"remarks\": \"Includes oranges, lemons, and other citrus fruits\"},\n",
    "    {\"id\": str(uuid.uuid4()), \"category_id\": category_df.loc[0, 'id'], \"name\": \"Berries\", \"long_name\": \"Berries\", \"remarks\": \"Includes strawberries, blueberries, and other berries\"},\n",
    "    {\"id\": str(uuid.uuid4()), \"category_id\": category_df.loc[1, 'id'], \"name\": \"Leafy Greens\", \"long_name\": \"Leafy Green Vegetables\", \"remarks\": \"Includes spinach, kale, and other leafy greens\"},\n",
    "    {\"id\": str(uuid.uuid4()), \"category_id\": category_df.loc[1, 'id'], \"name\": \"Root Vegetables\", \"long_name\": \"Root Vegetables\", \"remarks\": \"Includes carrots, potatoes, and other root vegetables\"},\n",
    "    {\"id\": str(uuid.uuid4()), \"category_id\": category_df.loc[2, 'id'], \"name\": \"Milk\", \"long_name\": \"Milk Products\", \"remarks\": \"Includes all types of milk\"},\n",
    "    {\"id\": str(uuid.uuid4()), \"category_id\": category_df.loc[2, 'id'], \"name\": \"Cheese\", \"long_name\": \"Cheese Products\", \"remarks\": \"Includes all types of cheese\"},\n",
    "    {\"id\": str(uuid.uuid4()), \"category_id\": category_df.loc[3, 'id'], \"name\": \"Bread\", \"long_name\": \"Bread Items\", \"remarks\": \"Includes all types of bread\"},\n",
    "    {\"id\": str(uuid.uuid4()), \"category_id\": category_df.loc[3, 'id'], \"name\": \"Pastries\", \"long_name\": \"Pastries\", \"remarks\": \"Includes cakes, cookies, and other pastries\"},\n",
    "    {\"id\": str(uuid.uuid4()), \"category_id\": category_df.loc[4, 'id'], \"name\": \"Juices\", \"long_name\": \"Fruit Juices\", \"remarks\": \"Includes all types of fruit juices\"},\n",
    "    {\"id\": str(uuid.uuid4()), \"category_id\": category_df.loc[4, 'id'], \"name\": \"Sodas\", \"long_name\": \"Sodas\", \"remarks\": \"Includes all types of sodas\"}\n",
    "]\n",
    "sub_category_df = pd.DataFrame(sub_category_data)\n"
   ]
  },
  {
   "cell_type": "code",
   "execution_count": 41,
   "metadata": {},
   "outputs": [],
   "source": [
    "\n",
    "# Define the product data\n",
    "product_data = [\n",
    "    {\"id\": str(uuid.uuid4()), \"name\": \"Orange\", \"sub_category_id\": sub_category_df.loc[0, 'id'], \"unit_of_measurement_id\": unit_of_measurement_df.loc[0, 'id'], \"price\": 3.5, 'currency':'naira'},\n",
    "    {\"id\": str(uuid.uuid4()), \"name\": \"Lemon\", \"sub_category_id\": sub_category_df.loc[0, 'id'], \"unit_of_measurement_id\": unit_of_measurement_df.loc[0, 'id'], \"price\": 2.0, 'currency':'naira'},\n",
    "    {\"id\": str(uuid.uuid4()), \"name\": \"Strawberry\", \"sub_category_id\": sub_category_df.loc[1, 'id'], \"unit_of_measurement_id\": unit_of_measurement_df.loc[3, 'id'], \"price\": 5.0, 'currency':'naira'},\n",
    "    {\"id\": str(uuid.uuid4()), \"name\": \"Blueberry\", \"sub_category_id\": sub_category_df.loc[1, 'id'], \"unit_of_measurement_id\": unit_of_measurement_df.loc[3, 'id'], \"price\": 6.0, 'currency':'naira'},\n",
    "    {\"id\": str(uuid.uuid4()), \"name\": \"Spinach\", \"sub_category_id\": sub_category_df.loc[2, 'id'], \"unit_of_measurement_id\": unit_of_measurement_df.loc[0, 'id'], \"price\": 4.0, 'currency':'naira'},\n",
    "    {\"id\": str(uuid.uuid4()), \"name\": \"Kale\", \"sub_category_id\": sub_category_df.loc[2, 'id'], \"unit_of_measurement_id\": unit_of_measurement_df.loc[0, 'id'], \"price\": 4.5, 'currency':'naira'},\n",
    "    {\"id\": str(uuid.uuid4()), \"name\": \"Carrot\", \"sub_category_id\": sub_category_df.loc[3, 'id'], \"unit_of_measurement_id\": unit_of_measurement_df.loc[0, 'id'], \"price\": 2.5, 'currency':'naira'},\n",
    "    {\"id\": str(uuid.uuid4()), \"name\": \"Potato\", \"sub_category_id\": sub_category_df.loc[3, 'id'], \"unit_of_measurement_id\": unit_of_measurement_df.loc[0, 'id'], \"price\": 1.5, 'currency':'naira'},\n",
    "    {\"id\": str(uuid.uuid4()), \"name\": \"Whole Milk\", \"sub_category_id\": sub_category_df.loc[4, 'id'], \"unit_of_measurement_id\": unit_of_measurement_df.loc[1, 'id'], \"price\": 1.2, 'currency':'naira'},\n",
    "    {\"id\": str(uuid.uuid4()), \"name\": \"Cheddar Cheese\", \"sub_category_id\": sub_category_df.loc[5, 'id'], \"unit_of_measurement_id\": unit_of_measurement_df.loc[0, 'id'], \"price\": 7.0, 'currency':'naira'},\n",
    "    {\"id\": str(uuid.uuid4()), \"name\": \"White Bread\", \"sub_category_id\": sub_category_df.loc[6, 'id'], \"unit_of_measurement_id\": unit_of_measurement_df.loc[2, 'id'], \"price\": 2.0, 'currency':'naira'},\n",
    "    {\"id\": str(uuid.uuid4()), \"name\": \"Chocolate Cake\", \"sub_category_id\": sub_category_df.loc[7, 'id'], \"unit_of_measurement_id\": unit_of_measurement_df.loc[2, 'id'], \"price\": 15.0, 'currency':'naira'},\n",
    "    {\"id\": str(uuid.uuid4()), \"name\": \"Apple Juice\", \"sub_category_id\": sub_category_df.loc[8, 'id'], \"unit_of_measurement_id\": unit_of_measurement_df.loc[1, 'id'], \"price\": 3.0, 'currency':'naira'},\n",
    "    {\"id\": str(uuid.uuid4()), \"name\": \"Cola\", \"sub_category_id\": sub_category_df.loc[9, 'id'], \"unit_of_measurement_id\": unit_of_measurement_df.loc[1, 'id'], \"price\": 1.0, 'currency':'naira'},\n",
    "    {\"id\": str(uuid.uuid4()), \"name\": \"Grapefruit\", \"sub_category_id\": sub_category_df.loc[0, 'id'], \"unit_of_measurement_id\": unit_of_measurement_df.loc[0, 'id'], \"price\": 3.0, 'currency':'naira'},\n",
    "    {\"id\": str(uuid.uuid4()), \"name\": \"Raspberry\", \"sub_category_id\": sub_category_df.loc[1, 'id'], \"unit_of_measurement_id\": unit_of_measurement_df.loc[3, 'id'], \"price\": 5.5, 'currency':'naira'},\n",
    "    {\"id\": str(uuid.uuid4()), \"name\": \"Lettuce\", \"sub_category_id\": sub_category_df.loc[2, 'id'], \"unit_of_measurement_id\": unit_of_measurement_df.loc[0, 'id'], \"price\": 2.8, 'currency':'naira'},\n",
    "    {\"id\": str(uuid.uuid4()), \"name\": \"Beetroot\", \"sub_category_id\": sub_category_df.loc[3, 'id'], \"unit_of_measurement_id\": unit_of_measurement_df.loc[0, 'id'], \"price\": 6.99, 'currency':'naira'}\n",
    "]\n",
    "\n",
    "product_df = pd.DataFrame(product_data)\n",
    "\n",
    "\n",
    "product_df['price'] = np.where(product_df['unit_of_measurement_id'] == 2, \n",
    "                               product_df['price'] * 110, \n",
    "                               product_df['price'] * random.choice([815, 1070, 1420]))\n",
    "\n",
    "# product_df['price'] = product_df['price']*110 if( product_df['unit_of_measurement_id'] == 2) else product_df['price'] * random.choice([815, 1070, 1420])"
   ]
  },
  {
   "cell_type": "code",
   "execution_count": 42,
   "metadata": {},
   "outputs": [
    {
     "name": "stdout",
     "output_type": "stream",
     "text": [
      "DatetimeIndex(['2024-01-01', '2024-01-02', '2024-01-03', '2024-01-04',\n",
      "               '2024-01-05', '2024-01-06', '2024-01-07', '2024-01-08',\n",
      "               '2024-01-09', '2024-01-10',\n",
      "               ...\n",
      "               '2024-09-21', '2024-09-22', '2024-09-23', '2024-09-24',\n",
      "               '2024-09-25', '2024-09-26', '2024-09-27', '2024-09-28',\n",
      "               '2024-09-29', '2024-09-30'],\n",
      "              dtype='datetime64[ns]', length=274, freq='D')\n"
     ]
    }
   ],
   "source": [
    "fake = Faker('en_GB')  # Use the English (Great Britain) locale\n",
    "start_date = '2024-01-01'\n",
    "end_date = '2024-09-30'\n",
    "date_range = pd.date_range(start_date, end_date)\n",
    "print(date_range)\n",
    "# print(trans_interval)\n",
    "# trans_interval = fake.date_between_dates(date_start=datetime(2024, 1, 1), date_end=datetime(2024, 9, 30))\n",
    "# Generate customer data\n",
    "def generate_customer():\n",
    "    # sign_up_date = None\n",
    "    is_active = random.random() < 0.7  # 70% chance of being active\n",
    "    first_name = fake.first_name()\n",
    "    last_name = fake.last_name()\n",
    "    street = fake.street_address()\n",
    "    state = random.choice(nigerian_states)\n",
    "    country = \"Nigeria\"\n",
    "    return {\n",
    "        \"id\": str(uuid.uuid4()),\n",
    "        \"first_name\": first_name,\n",
    "        \"last_name\": last_name,\n",
    "        \"street\": street,\n",
    "        \"state\": state,\n",
    "        \"country\": country,\n",
    "        \"credit_card_number\": fake.credit_card_number(),\n",
    "        # \"sign_up_date\": sign_up_date,\n",
    "        \"is_active\": is_active\n",
    "    }\n",
    "\n",
    "customer_data = [generate_customer() for _ in range(1000)]\n",
    "random_dates = np.random.choice(date_range, size=len(customer_data))\n",
    "customer_df = pd.DataFrame(customer_data)\n",
    "customer_df['sign_up_date'] = random_dates\n"
   ]
  },
  {
   "cell_type": "code",
   "execution_count": 43,
   "metadata": {},
   "outputs": [],
   "source": [
    "\n",
    "# Filter active customers\n",
    "active_customers = customer_df[customer_df['is_active']]\n",
    "\n",
    "# Ensure 20% of active customers have sign_up_date within two weeks before September 30, 2024\n",
    "two_weeks_before_end = datetime(2024, 9, 30) - timedelta(weeks=2)\n",
    "recent_signups = active_customers.sample(frac=0.2)\n",
    "mod_date_range = pd.date_range(two_weeks_before_end, end_date)\n",
    "customer_df.loc[recent_signups.index, 'sign_up_date'] = np.random.choice(mod_date_range, size=len(recent_signups))\n",
    "\n",
    "# Exclude recent sign-ups from active customers for transaction generation\n",
    "recent_signup_ids = recent_signups['id'].tolist()\n",
    "active_customers_for_transactions = active_customers[~active_customers['id'].isin(recent_signup_ids)]\n"
   ]
  },
  {
   "cell_type": "code",
   "execution_count": 44,
   "metadata": {},
   "outputs": [
    {
     "data": {
      "text/plain": [
       "255"
      ]
     },
     "execution_count": 44,
     "metadata": {},
     "output_type": "execute_result"
    }
   ],
   "source": [
    "customer_df['sign_up_date'].nunique()"
   ]
  },
  {
   "cell_type": "code",
   "execution_count": 45,
   "metadata": {},
   "outputs": [
    {
     "name": "stderr",
     "output_type": "stream",
     "text": [
      "C:\\Users\\13404179\\AppData\\Local\\Temp\\ipykernel_31416\\714825520.py:32: FutureWarning: Setting an item of incompatible dtype is deprecated and will raise an error in a future version of pandas. Value '501.1803063309492' has dtype incompatible with int64, please explicitly cast to a compatible dtype first.\n",
      "  transaction_df.loc[transaction_df['transaction_id'] == row['transaction_id'], 'quantity'] = average_quantity_last_month + 1\n",
      "C:\\Users\\13404179\\AppData\\Local\\Temp\\ipykernel_31416\\714825520.py:40: SettingWithCopyWarning: \n",
      "A value is trying to be set on a copy of a slice from a DataFrame.\n",
      "Try using .loc[row_indexer,col_indexer] = value instead\n",
      "\n",
      "See the caveats in the documentation: https://pandas.pydata.org/pandas-docs/stable/user_guide/indexing.html#returning-a-view-versus-a-copy\n",
      "  transactions_within_90_days['prev_date'] = transactions_within_90_days.groupby('customer_id')['transaction_date'].shift(1)\n",
      "C:\\Users\\13404179\\AppData\\Local\\Temp\\ipykernel_31416\\714825520.py:41: SettingWithCopyWarning: \n",
      "A value is trying to be set on a copy of a slice from a DataFrame.\n",
      "Try using .loc[row_indexer,col_indexer] = value instead\n",
      "\n",
      "See the caveats in the documentation: https://pandas.pydata.org/pandas-docs/stable/user_guide/indexing.html#returning-a-view-versus-a-copy\n",
      "  transactions_within_90_days['days_between'] = (transactions_within_90_days['transaction_date'] - transactions_within_90_days['prev_date']).dt.days\n"
     ]
    },
    {
     "name": "stdout",
     "output_type": "stream",
     "text": [
      "                         transaction_id tansaction_date  \\\n",
      "0  5ae67eca-807c-4939-981c-cd30080da3c0            None   \n",
      "1  4b82a0b8-87a7-4439-a2ec-fa3d88537432            None   \n",
      "2  8216f24c-2099-4802-bfec-afa5574279ef            None   \n",
      "3  60c150a6-5734-47e9-a46a-5730a39a799d            None   \n",
      "4  b118d561-ae39-4a2a-9abd-386acfd0565f            None   \n",
      "\n",
      "                             product_id  quantity  \\\n",
      "0  05147b43-f140-420f-97d1-9d16cffcd4ea       9.0   \n",
      "1  62a46064-443d-492f-937e-fc8a5eaa9449     365.0   \n",
      "2  b36bd1de-59a9-4ce5-a44a-2dec09a7f7c6     118.0   \n",
      "3  55af7bf4-d67a-4860-a45a-77214cff33f7     123.0   \n",
      "4  2fb300f7-e71d-40fb-9997-888eecd5241c     484.0   \n",
      "\n",
      "                            customer_id promo_code transaction_date  \n",
      "0  53382718-5530-440c-a86c-5e96077e888c       None       2024-01-04  \n",
      "1  999a9961-0458-4282-9071-39352168660d       None       2024-07-02  \n",
      "2  9bdb3646-8b7c-4a14-94ca-c8b8945e7430       None       2024-01-01  \n",
      "3  f986ac36-9761-439f-8802-10f94dcbcc47       None       2024-02-08  \n",
      "4  c8c2fc17-2910-447a-8590-617d0167dbdd       None       2024-08-13  \n"
     ]
    }
   ],
   "source": [
    "# Assuming active_customers and product DataFrames are already defined\n",
    "def generate_transaction(active_customers, product,):\n",
    "    customer_id = random.choice(active_customers['id'].tolist())\n",
    "    product_id = random.choice(product['id'].tolist())\n",
    "    # trans_interval = datetime.now() - timedelta(days=random.randint(1, 90))  # Example transaction interval\n",
    "    return {\n",
    "        \"transaction_id\": str(uuid.uuid4()),\n",
    "        \"tansaction_date\": None, #pd.to_datetime(trans_interval),\n",
    "        \"product_id\": product_id,\n",
    "        \"quantity\": random.randint(1, 1000),\n",
    "        \"customer_id\": customer_id,\n",
    "        \"promo_code\": None\n",
    "    }\n",
    "\n",
    "transaction_data = [generate_transaction(active_customers, product_df) for _ in range(10000000)]\n",
    "transaction_df = pd.DataFrame(transaction_data)\n",
    "trans_random_dates = np.random.choice(date_range, size=len(transaction_df))\n",
    "transaction_df['transaction_date'] = trans_random_dates\n",
    "\n",
    "# Calculate the average quantity of items purchased in the last month\n",
    "one_month_ago = datetime(2024, 9, 30) - timedelta(days=30)\n",
    "last_month_transactions = transaction_df[(transaction_df['transaction_date']) > one_month_ago]\n",
    "average_quantity_last_month = last_month_transactions['quantity'].mean()\n",
    "\n",
    "# Ensure at least 33% customers have their most recent transaction quantity greater than the average\n",
    "total_customers = transaction_df['customer_id'].nunique()\n",
    "required_count_for_update = int(.33 * total_customers)\n",
    "recent_transactions = transaction_df.sort_values(by='transaction_date').groupby('customer_id').tail(1)\n",
    "customers_to_update = recent_transactions[recent_transactions['quantity'] <= average_quantity_last_month].head(required_count_for_update)\n",
    "\n",
    "for index, row in customers_to_update.iterrows():\n",
    "    transaction_df.loc[transaction_df['transaction_id'] == row['transaction_id'], 'quantity'] = average_quantity_last_month + 1\n",
    "\n",
    "# Calculate days of inactivity for each customer as of September 30, 2024\n",
    "end_date = datetime(2024, 9, 30)\n",
    "start_date = end_date - timedelta(days=90)\n",
    "transactions_within_90_days = transaction_df[(transaction_df['transaction_date'] <= end_date) & (transaction_df['transaction_date'] >= start_date)]\n",
    "\n",
    "# Calculate the average number of days between transactions\n",
    "transactions_within_90_days['prev_date'] = transactions_within_90_days.groupby('customer_id')['transaction_date'].shift(1)\n",
    "transactions_within_90_days['days_between'] = (transactions_within_90_days['transaction_date'] - transactions_within_90_days['prev_date']).dt.days\n",
    "average_days_between = transactions_within_90_days['days_between'].mean()\n",
    "\n",
    "# Identify customers with days of inactivity greater than the average\n",
    "inactive_customers = transactions_within_90_days.groupby('customer_id').tail(1)\n",
    "inactive_customers = inactive_customers[inactive_customers['days_between'] > average_days_between]\n",
    "\n",
    "# Ensure about 30% of customers meet this inactivity criterion\n",
    "required_inactive_customers = int(0.3 * total_customers)\n",
    "inactive_customers_to_update = inactive_customers.head(required_inactive_customers)\n",
    "\n",
    "# Update the transaction DataFrame as needed\n",
    "# (This part depends on what specific updates you want to make for these inactive customers)\n",
    "\n",
    "print(transaction_df.head())\n"
   ]
  },
  {
   "cell_type": "code",
   "execution_count": 46,
   "metadata": {},
   "outputs": [],
   "source": [
    "promo_recipient_list  = list(set(customers_to_update['customer_id'].to_list()+recent_signup_ids+inactive_customers_to_update['customer_id'].to_list()))\n",
    "non_promo_recipients = transaction_df[~transaction_df['customer_id'].isin(promo_recipient_list)]\n",
    "required_non_promo_recipients = int(0.5*(non_promo_recipients['customer_id'].nunique()))\n",
    "required_non_promo_recipients_list = non_promo_recipients['customer_id'].drop_duplicates().to_list()[:required_non_promo_recipients] \n",
    "oct_transaction_generator = required_non_promo_recipients_list + promo_recipient_list\n",
    "oct_transaction_generator = pd.DataFrame({'id':oct_transaction_generator})\n",
    "oct_date_rage = pd.date_range('2024-10-01', '2024-10-31')\n",
    "oct_transaction_data = [generate_transaction(oct_transaction_generator,product_df) for _ in range(1300000)]\n",
    "oct_transaction_data_df = pd.DataFrame(oct_transaction_data)\n",
    "oct_random_dates = np.random.choice(oct_date_rage, size=len(oct_transaction_data_df))\n",
    "oct_transaction_data_df['transaction_date'] = oct_random_dates"
   ]
  },
  {
   "cell_type": "code",
   "execution_count": 47,
   "metadata": {},
   "outputs": [],
   "source": [
    "transaction_df_final = pd.concat(\n",
    "    [transaction_df, oct_transaction_data_df], \n",
    "    ignore_index = True\n",
    ")"
   ]
  },
  {
   "cell_type": "code",
   "execution_count": 49,
   "metadata": {},
   "outputs": [
    {
     "data": {
      "text/plain": [
       "['data\\\\unit_of_measurement.csv',\n",
       " 'data\\\\category.csv',\n",
       " 'data\\\\sub_category.csv',\n",
       " 'data\\\\product.csv',\n",
       " 'data\\\\transaction.csv',\n",
       " 'data\\\\promotion.csv',\n",
       " 'data\\\\customer.csv']"
      ]
     },
     "execution_count": 49,
     "metadata": {},
     "output_type": "execute_result"
    }
   ],
   "source": [
    "dir_ = 'data'\n",
    "table_attr = {\n",
    "    'unit_of_measurement.csv':unit_of_measurement_df,\n",
    "    'category.csv':category_df,\n",
    "    'sub_category.csv':sub_category_df,\n",
    "    'product.csv':product_df,\n",
    "    'transaction.csv':transaction_df_final,\n",
    "    'promotion.csv':promotion_df ,\n",
    "    'customer.csv':customer_df  \n",
    "}\n",
    "\n",
    "[save_csv(v, dir_, k) for k,v in table_attr.items()]"
   ]
  }
 ],
 "metadata": {
  "kernelspec": {
   "display_name": "Python 3",
   "language": "python",
   "name": "python3"
  },
  "language_info": {
   "codemirror_mode": {
    "name": "ipython",
    "version": 3
   },
   "file_extension": ".py",
   "mimetype": "text/x-python",
   "name": "python",
   "nbconvert_exporter": "python",
   "pygments_lexer": "ipython3",
   "version": "3.12.7"
  }
 },
 "nbformat": 4,
 "nbformat_minor": 2
}
